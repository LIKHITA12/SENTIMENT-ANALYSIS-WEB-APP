{
  "cells": [
    {
      "cell_type": "markdown",
      "metadata": {
        "id": "view-in-github",
        "colab_type": "text"
      },
      "source": [
        "<a href=\"https://colab.research.google.com/github/LIKHITA12/SENTIMENT-ANALYSIS-WEB-APP/blob/main/Sentiment_Analysis_Web_App.ipynb\" target=\"_parent\"><img src=\"https://colab.research.google.com/assets/colab-badge.svg\" alt=\"Open In Colab\"/></a>"
      ]
    },
    {
      "cell_type": "markdown",
      "id": "0ab49e7c",
      "metadata": {
        "id": "0ab49e7c"
      },
      "source": [
        "# Complete End-To-End ML Prototype: **SENTIMENT ANALYSIS WEB APP**"
      ]
    },
    {
      "cell_type": "markdown",
      "id": "grVDj14XlPbW",
      "metadata": {
        "id": "grVDj14XlPbW"
      },
      "source": [
        "### Setup and Installations"
      ]
    },
    {
      "cell_type": "code",
      "execution_count": null,
      "id": "ilShVFiBlWf9",
      "metadata": {
        "colab": {
          "base_uri": "https://localhost:8080/"
        },
        "id": "ilShVFiBlWf9",
        "outputId": "7f77b504-9968-41cd-8927-e68d5af5a4e3"
      },
      "outputs": [
        {
          "name": "stdout",
          "output_type": "stream",
          "text": [
            "STEP 1: Installing libraries...\n"
          ]
        }
      ],
      "source": [
        "print(\"STEP 1: Installing libraries...\")\n",
        "!pip install -q flask pyngrok tensorflow numpy"
      ]
    },
    {
      "cell_type": "markdown",
      "id": "N1djQ6tjlcCX",
      "metadata": {
        "id": "N1djQ6tjlcCX"
      },
      "source": [
        "### Train a TensorFlow/Keras model for sentiment analysis."
      ]
    },
    {
      "cell_type": "code",
      "execution_count": null,
      "id": "ng5PV_JDl9IG",
      "metadata": {
        "colab": {
          "base_uri": "https://localhost:8080/"
        },
        "id": "ng5PV_JDl9IG",
        "outputId": "6a8590af-e251-48bf-c60f-3868d762ee33"
      },
      "outputs": [
        {
          "name": "stdout",
          "output_type": "stream",
          "text": [
            "\n",
            "STEP 2: Training the Sentiment Analysis Model...\n"
          ]
        },
        {
          "name": "stderr",
          "output_type": "stream",
          "text": [
            "/usr/local/lib/python3.11/dist-packages/keras/src/layers/core/embedding.py:90: UserWarning: Argument `input_length` is deprecated. Just remove it.\n",
            "  warnings.warn(\n"
          ]
        },
        {
          "name": "stdout",
          "output_type": "stream",
          "text": [
            "✅ Model training complete.\n"
          ]
        }
      ],
      "source": [
        "print(\"\\nSTEP 2: Training the Sentiment Analysis Model...\")\n",
        "import numpy as np\n",
        "import tensorflow as tf\n",
        "from tensorflow.keras.datasets import imdb\n",
        "from tensorflow.keras.preprocessing.sequence import pad_sequences\n",
        "from tensorflow.keras.models import Sequential\n",
        "from tensorflow.keras.layers import Embedding, GlobalAveragePooling1D, Dense\n",
        "\n",
        "# --- Model Parameters ---\n",
        "vocab_size = 10000\n",
        "max_length = 256\n",
        "embedding_dim = 16\n",
        "\n",
        "# --- Load and Preprocess Data ---\n",
        "(X_train, y_train), (X_test, y_test) = imdb.load_data(num_words=vocab_size)\n",
        "X_train = pad_sequences(X_train, maxlen=max_length, padding='post')\n",
        "X_test = pad_sequences(X_test, maxlen=max_length, padding='post')\n",
        "\n",
        "# --- Build and Train the Neural Network ---\n",
        "model = Sequential([\n",
        "    Embedding(vocab_size, embedding_dim, input_length=max_length),\n",
        "    GlobalAveragePooling1D(),\n",
        "    Dense(16, activation='relu'),\n",
        "    Dense(1, activation='sigmoid')\n",
        "])\n",
        "model.compile(optimizer='adam', loss='binary_crossentropy', metrics=['accuracy'])\n",
        "# We set verbose=0 to make the training log cleaner for this final version\n",
        "model.fit(X_train, y_train, epochs=20, batch_size=512, validation_split=0.2, verbose=0)\n",
        "print(\"✅ Model training complete.\")\n",
        "\n",
        "# --- Create helper functions for prediction ---\n",
        "word_index = imdb.get_word_index()\n",
        "word_index = {k:(v+3) for k, v in word_index.items()}\n",
        "word_index[\"<PAD>\"] = 0\n",
        "word_index[\"<START>\"] = 1\n",
        "word_index[\"<UNK>\"] = 2\n",
        "word_index[\"<UNUSED>\"] = 3\n",
        "\n",
        "def preprocess_text(text):\n",
        "    words = text.lower().split()\n",
        "    tokens = [word_index.get(word, 2) for word in words]\n",
        "    return pad_sequences([tokens], maxlen=max_length, padding='post')\n"
      ]
    },
    {
      "cell_type": "markdown",
      "id": "MNPa_eo_l_rJ",
      "metadata": {
        "id": "MNPa_eo_l_rJ"
      },
      "source": [
        "### Define a complete Flask web application."
      ]
    },
    {
      "cell_type": "code",
      "execution_count": null,
      "id": "6JoC5hOcWtV6",
      "metadata": {
        "colab": {
          "base_uri": "https://localhost:8080/"
        },
        "id": "6JoC5hOcWtV6",
        "outputId": "3a53bf16-7055-49c6-b1f0-cbb19b75b6c6"
      },
      "outputs": [
        {
          "name": "stdout",
          "output_type": "stream",
          "text": [
            "\n",
            "STEP 3: Defining the Flask Web Application...\n",
            "✅ Flask application defined.\n"
          ]
        }
      ],
      "source": [
        "print(\"\\nSTEP 3: Defining the Flask Web Application...\")\n",
        "from flask import Flask, request, jsonify, render_template_string\n",
        "\n",
        "app = Flask(__name__)\n",
        "\n",
        "# --- HTML Template for the Web Page ---\n",
        "HTML_TEMPLATE = \"\"\"\n",
        "<!DOCTYPE html>\n",
        "<html lang=\"en\">\n",
        "<head>\n",
        "    <meta charset=\"UTF-8\">\n",
        "    <meta name=\"viewport\" content=\"width=device-width, initial-scale=1.0\">\n",
        "    <title>Sentiment Analysis Demo</title>\n",
        "    <style>\n",
        "        @import url('https://fonts.googleapis.com/css2?family=Inter:wght@400;600;700&display=swap');\n",
        "        body { font-family: 'Inter', sans-serif; background-color: #f8f9fa; color: #212529; display: flex; justify-content: center; align-items: center; min-height: 100vh; margin: 0; }\n",
        "        .container { max-width: 600px; width: 100%; padding: 30px; background-color: #ffffff; border-radius: 12px; box-shadow: 0 4px 20px rgba(0,0,0,0.05); text-align: center; }\n",
        "        h1 { font-size: 28px; font-weight: 700; color: #343a40; margin-bottom: 10px; }\n",
        "        p { color: #6c757d; margin-bottom: 25px; }\n",
        "        textarea { width: calc(100% - 24px); padding: 12px; border: 1px solid #ced4da; border-radius: 8px; font-size: 16px; margin-top: 10px; resize: vertical; min-height: 100px; }\n",
        "        textarea:focus { border-color: #80bdff; outline: 0; box-shadow: 0 0 0 .2rem rgba(0,123,255,.25); }\n",
        "        button { display: block; width: 100%; padding: 12px; background-color: #007bff; color: white; border: none; border-radius: 8px; font-size: 16px; font-weight: 600; cursor: pointer; margin-top: 20px; transition: background-color 0.2s; }\n",
        "        button:hover { background-color: #0056b3; }\n",
        "        #result { margin-top: 25px; padding: 15px; border-radius: 8px; font-size: 20px; font-weight: 600; display: none; }\n",
        "        #result.positive { background-color: #d4edda; color: #155724; border: 1px solid #c3e6cb;}\n",
        "        #result.negative { background-color: #f8d7da; color: #721c24; border: 1px solid #f5c6cb;}\n",
        "    </style>\n",
        "</head>\n",
        "<body>\n",
        "    <div class=\"container\">\n",
        "        <h1>Live Movie Review Sentiment Analysis</h1>\n",
        "        <p>Enter a movie review below to see a real-time prediction from a neural network.</p>\n",
        "        <form id=\"sentiment-form\">\n",
        "            <textarea id=\"review_text\" rows=\"5\" placeholder=\"e.g., 'The movie was absolutely fantastic! The acting was brilliant.'\"></textarea>\n",
        "            <button type=\"submit\">Analyze Sentiment</button>\n",
        "        </form>\n",
        "        <div id=\"result\"></div>\n",
        "    </div>\n",
        "    <script>\n",
        "        document.getElementById('sentiment-form').addEventListener('submit', async function(event) {\n",
        "            event.preventDefault();\n",
        "            const resultDiv = document.getElementById('result');\n",
        "            const reviewText = document.getElementById('review_text').value;\n",
        "            resultDiv.style.display = 'block';\n",
        "            resultDiv.innerText = 'Analyzing...';\n",
        "            resultDiv.className = '';\n",
        "            const response = await fetch('/predict', {\n",
        "                method: 'POST',\n",
        "                headers: { 'Content-Type': 'application/json' },\n",
        "                body: JSON.stringify({ review_text: reviewText })\n",
        "            });\n",
        "            const data = await response.json();\n",
        "            resultDiv.innerText = `Prediction: ${data.prediction} (${data.confidence}%)`;\n",
        "            resultDiv.className = data.prediction === 'Positive' ? 'positive' : 'negative';\n",
        "        });\n",
        "    </script>\n",
        "</body>\n",
        "</html>\n",
        "\"\"\"\n",
        "\n",
        "@app.route(\"/\")\n",
        "def home():\n",
        "    return render_template_string(HTML_TEMPLATE)\n",
        "\n",
        "@app.route(\"/predict\", methods=[\"POST\"])\n",
        "def predict():\n",
        "    data = request.get_json()\n",
        "    review_text = data.get(\"review_text\")\n",
        "    if not review_text:\n",
        "        return jsonify({\"error\": \"No text provided\"}), 400\n",
        "    # Add verbose=0 to prevent prediction logs from cluttering the output\n",
        "    processed_text = preprocess_text(review_text)\n",
        "    raw_prediction = model.predict(processed_text, verbose=0)[0][0]\n",
        "    if raw_prediction > 0.5:\n",
        "        sentiment = \"Positive\"\n",
        "        confidence = f\"{raw_prediction * 100:.1f}\"\n",
        "    else:\n",
        "        sentiment = \"Negative\"\n",
        "        confidence = f\"{(1 - raw_prediction) * 100:.1f}\"\n",
        "    return jsonify({\"prediction\": sentiment, \"confidence\": confidence})\n",
        "print(\"✅ Flask application defined.\")\n"
      ]
    },
    {
      "cell_type": "markdown",
      "id": "tDJ-XTzXmT2i",
      "metadata": {
        "id": "tDJ-XTzXmT2i"
      },
      "source": [
        "### Launch the Web Server with ngrok\n"
      ]
    },
    {
      "cell_type": "code",
      "execution_count": null,
      "id": "r59Ksl24mK4D",
      "metadata": {
        "colab": {
          "background_save": true,
          "base_uri": "https://localhost:8080/"
        },
        "id": "r59Ksl24mK4D",
        "outputId": "a2bd1580-dd36-4868-9eea-c3cda5f90819"
      },
      "outputs": [
        {
          "name": "stdout",
          "output_type": "stream",
          "text": [
            "\n",
            "STEP 4: Launching the application...\n",
            "\n",
            "================================================================================\n",
            "✅ PROTOTYPE IS LIVE! Click this temporary URL to access it -> NgrokTunnel: \"https://c424-34-145-168-171.ngrok-free.app\" -> \"http://localhost:5000\"\n",
            "================================================================================\n",
            " * Serving Flask app '__main__'\n",
            " * Debug mode: off\n"
          ]
        },
        {
          "name": "stderr",
          "output_type": "stream",
          "text": [
            "INFO:werkzeug:\u001b[31m\u001b[1mWARNING: This is a development server. Do not use it in a production deployment. Use a production WSGI server instead.\u001b[0m\n",
            " * Running on http://127.0.0.1:5000\n",
            "INFO:werkzeug:\u001b[33mPress CTRL+C to quit\u001b[0m\n",
            "INFO:werkzeug:127.0.0.1 - - [09/Jun/2025 17:02:14] \"GET / HTTP/1.1\" 200 -\n",
            "INFO:werkzeug:127.0.0.1 - - [09/Jun/2025 17:02:15] \"\u001b[33mGET /favicon.ico HTTP/1.1\u001b[0m\" 404 -\n",
            "INFO:werkzeug:127.0.0.1 - - [09/Jun/2025 17:02:25] \"POST /predict HTTP/1.1\" 200 -\n",
            "INFO:werkzeug:127.0.0.1 - - [09/Jun/2025 17:02:37] \"POST /predict HTTP/1.1\" 200 -\n",
            "INFO:werkzeug:127.0.0.1 - - [09/Jun/2025 17:03:20] \"POST /predict HTTP/1.1\" 200 -\n",
            "INFO:werkzeug:127.0.0.1 - - [09/Jun/2025 17:03:50] \"GET / HTTP/1.1\" 200 -\n",
            "INFO:werkzeug:127.0.0.1 - - [09/Jun/2025 17:04:11] \"POST /predict HTTP/1.1\" 200 -\n",
            "INFO:werkzeug:127.0.0.1 - - [09/Jun/2025 17:04:21] \"POST /predict HTTP/1.1\" 200 -\n",
            "INFO:werkzeug:127.0.0.1 - - [09/Jun/2025 17:05:05] \"POST /predict HTTP/1.1\" 200 -\n",
            "INFO:werkzeug:127.0.0.1 - - [09/Jun/2025 17:05:21] \"GET / HTTP/1.1\" 200 -\n",
            "INFO:werkzeug:127.0.0.1 - - [09/Jun/2025 17:05:32] \"POST /predict HTTP/1.1\" 200 -\n",
            "INFO:werkzeug:127.0.0.1 - - [09/Jun/2025 17:06:04] \"GET / HTTP/1.1\" 200 -\n",
            "INFO:werkzeug:127.0.0.1 - - [09/Jun/2025 17:06:16] \"POST /predict HTTP/1.1\" 200 -\n",
            "INFO:werkzeug:127.0.0.1 - - [09/Jun/2025 17:06:25] \"POST /predict HTTP/1.1\" 200 -\n"
          ]
        }
      ],
      "source": [
        "print(\"\\nSTEP 4: Launching the application...\")\n",
        "from pyngrok import ngrok\n",
        "\n",
        "# --- ngrok Configuration ---\n",
        "# This is the authtoken you provided.\n",
        "authtoken = \"2yH2jekFMKmgnfzke5aUnzuuYsn_V2Gy4FSV2p4EL1A1PCtQ\"\n",
        "ngrok.set_auth_token(authtoken)\n",
        "\n",
        "# --- Launch the server ---\n",
        "# This opens a public tunnel to your Flask app\n",
        "public_url = ngrok.connect(5000, proto=\"http\")\n",
        "print(\"\\n\" + \"=\"*80)\n",
        "print(f\"✅ PROTOTYPE IS LIVE! Click this temporary URL to access it -> {public_url}\")\n",
        "print(\"=\"*80)\n",
        "\n",
        "# This will run the Flask app and keep the cell running until you manually stop it.\n",
        "app.run(port=5000)"
      ]
    }
  ],
  "metadata": {
    "colab": {
      "provenance": [],
      "include_colab_link": true
    },
    "kernelspec": {
      "display_name": "Python 3",
      "name": "python3"
    },
    "language_info": {
      "name": "python"
    }
  },
  "nbformat": 4,
  "nbformat_minor": 5
}